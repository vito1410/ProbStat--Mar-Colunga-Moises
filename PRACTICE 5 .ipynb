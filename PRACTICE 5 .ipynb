{
 "cells": [
  {
   "cell_type": "markdown",
   "metadata": {},
   "source": [
    "--------------------------------------------------PRACTICE 5-------------------------------------------------------------------"
   ]
  },
  {
   "cell_type": "markdown",
   "metadata": {},
   "source": [
    "MADE BY: DAVILA ESTRADA VICTOR MANUEL & MAR COLUNGA MOISES"
   ]
  },
  {
   "cell_type": "markdown",
   "metadata": {},
   "source": [
    "INSTRUCTION: develop programthat calculates trimmed mean. The user have to introduce the set of data and the percentage they want to use "
   ]
  },
  {
   "cell_type": "code",
   "execution_count": null,
   "metadata": {},
   "outputs": [],
   "source": [
    "values=int(input(\"How many values you want to enter?: \"))\n",
    "\n",
    "values_sa=[] #VARIABLE WHERE WE CAN SAVE OR DATES\n",
    "\n",
    "for i in range(0,values):\n",
    "    z = float(input(\"Introduce a value: \"))\n",
    "    values_sa.append(z) #HELP US TO DO THE LIST OF OUR DATES \n",
    "\n",
    "\n"
   ]
  },
  {
   "cell_type": "markdown",
   "metadata": {},
   "source": [
    "In this part we create our variable values_sa were we can save our dates and each value that you introduce will be part of it because we art using .append() that hel us to save each date "
   ]
  },
  {
   "cell_type": "code",
   "execution_count": null,
   "metadata": {},
   "outputs": [],
   "source": [
    "ordered= sorted(values_sa) #THEY WERE ARRAGE OF MINIOR TO MAJOR \n",
    "\n"
   ]
  },
  {
   "cell_type": "markdown",
   "metadata": {},
   "source": [
    "Here we used srted() that is a Phyton´s function , the idea of why we used it was that with this fuction we can arrange the list of minor to major and with this we would do easier the way of find the trimmed mean "
   ]
  },
  {
   "cell_type": "code",
   "execution_count": null,
   "metadata": {},
   "outputs": [],
   "source": [
    "perc = int(input(\"Write the % that you will use:\"))\n",
    "perc2= perc/100  #IT WAS CREATED TO CONVERT TO DECIMAL TO A PERCENTAGE \n",
    "v_result = int(perc2*values)\n",
    "\n"
   ]
  },
  {
   "cell_type": "markdown",
   "metadata": {},
   "source": [
    "this part was only to convert a decimal number to a percentage"
   ]
  },
  {
   "cell_type": "code",
   "execution_count": null,
   "metadata": {},
   "outputs": [],
   "source": [
    "print(f\"the number of values that will be eliminated on both sides of th list is: {v_result} \")\n",
    "values_new=0 ## VARIABLE THAT WAS CREATED TO COUN THE NEW DATES \n",
    "addition=0 ##TOTAL OF THE ADDITION OF DATA \n",
    "list_3=[]\n",
    "for i in range (v_result,values-v_result):\n",
    "    z=ordered[i]\n",
    "    list_3.append(z)\n",
    "    values_new += 1 ## IT WILL INCREASE 1\n",
    "    addition += z #EACHE DATA IN Z WILL BE STAY HERE\n",
    "\n",
    "trimmed_mean= addition/values_new\n",
    "print(f\"The trimmed mean is: {trimmed_mean}\")"
   ]
  },
  {
   "cell_type": "markdown",
   "metadata": {},
   "source": [
    "to this section we create a new list in which there already does not include the eliminated information which we call \n",
    "list 3. To be able to develop the operation we must remember that in phyton 0 is the first value and 1 is the second one for that reason we use the function (v result, value - v result) v result it is the number 1 that's why it is value - v result. And the end we only have to get the sample mean of the new list \"trimmed_mean\" with the news values "
   ]
  },
  {
   "cell_type": "markdown",
   "metadata": {},
   "source": [
    "-----------------------------------------------FULL PROGRAM-------------------------------------------------------------------"
   ]
  },
  {
   "cell_type": "code",
   "execution_count": null,
   "metadata": {},
   "outputs": [],
   "source": [
    "values=int(input(\"How many values you want to enter?: \"))\n",
    "\n",
    "values_sa=[]\n",
    "\n",
    "for i in range(0,values):\n",
    "    z = float(input(\"Introduce a value: \"))\n",
    "    values_sa.append(z)\n",
    "\n",
    "ordered= sorted(values_sa)\n",
    "\n",
    "perc = int(input(\"Write the % that you will use:\"))\n",
    "perc2= perc/100\n",
    "v_result = int(perc2*values)\n",
    "\n",
    "print(f\"the number of values that will be eliminated on both sides of th list is: {v_result} \")\n",
    "values_new=0 ## new variable that counts the new amount of data \n",
    "addition=0 ##variable to obtain the total of the addition of the data\n",
    "list_3=[]\n",
    "for i in range (v_result,values-v_result):\n",
    "    z=ordered[i]\n",
    "    list_3.append(z)\n",
    "    values_new += 1 ## every time x pass through a data, no_values will increase 1\n",
    "    addition += z ## all the data in x is going to add in this variable\n",
    "\n",
    "trimmed_mean= addition/values_new\n",
    "print(f\"The trimmed mean is: {trimmed_mean}\")"
   ]
  },
  {
   "cell_type": "code",
   "execution_count": null,
   "metadata": {},
   "outputs": [],
   "source": []
  }
 ],
 "metadata": {
  "kernelspec": {
   "display_name": "Python 3",
   "language": "python",
   "name": "python3"
  },
  "language_info": {
   "codemirror_mode": {
    "name": "ipython",
    "version": 3
   },
   "file_extension": ".py",
   "mimetype": "text/x-python",
   "name": "python",
   "nbconvert_exporter": "python",
   "pygments_lexer": "ipython3",
   "version": "3.7.3"
  }
 },
 "nbformat": 4,
 "nbformat_minor": 2
}
